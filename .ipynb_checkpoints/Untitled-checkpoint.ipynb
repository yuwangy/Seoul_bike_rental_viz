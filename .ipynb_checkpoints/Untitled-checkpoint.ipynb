{
 "cells": [
  {
   "cell_type": "code",
   "execution_count": null,
   "id": "67803063-a12b-4c57-9377-0ac1afabf781",
   "metadata": {},
   "outputs": [],
   "source": []
  },
  {
   "cell_type": "markdown",
   "id": "3310b41b-13c3-43fe-afa6-95075114bcc2",
   "metadata": {
    "pycharm": {
     "name": "#%% md\n"
    },
    "tags": []
   },
   "source": [
    "# Study of Bike Rental in Seoul\n",
    "\n",
    "\n",
    "### Introduction\n",
    "In this study of bike rental in Seoul, we want to learn about data wrangling and processing. We want to develop skills of tidying our data and adapt it to fit the task we want to complete. Also, we want to improve our visualization design skills by exploring different visualization type we can use and find the one that suits our task the best. \n",
    "\n",
    "\n",
    "### Audience\n",
    "Our intended audience will be primarily young to middle-age citizens in Seoul, due to that it is mainly young people live in Seoul is renting bikes, and they would like to know the bike rental condition(amount available, etc.) under different circumstance. Another potential audience could be the rental company, they want know when is the rush hours for bike renting, so that they can arrange their storage and staff schedule better.\n",
    "\n",
    "\n",
    "### Motivation\n",
    "Citizens would like to avoid the rush hour or reserve bikes before rush hour so that they would have a bike to rent. Rental company would like to know when is the rush hour so that they can better prepare for the rush hour. Therefore, our audience can apply their condition(weather, temprature, etc.) to the visualization, and have a basic sence of what is the amount of renting going to be like, so that they can correspondingly decide what they shoould do. "
   ]
  },
  {
   "cell_type": "markdown",
   "id": "cfa59aa3-5123-4746-b0c4-656ce621deeb",
   "metadata": {
    "pycharm": {
     "name": "#%% md\n"
    }
   },
   "source": [
    "# Task Analysis\n",
    "First of all, this visualization should have 2 main tabs and 4 minor tabs under it. The 2 main tabs are \"Overview\" and \"Trending\", which is studying the overall distribution of renting amount throught out the year(Overview), and the trend of renting amount over different Temperature and different time in a day(Trending). The second part is devided into 4 subset for the 4 seasons.\n",
    "\n",
    "For the first part \"Overview\", the visualization should be able to give the total amount of renting in a day encoded in the y-axis channel(compute a derived value), and form an area plot to show the distribution of amount of renting through the year with data encoded in the x-axis channel(Characterize Distribution). There should be a tooltip for each day on the visualization, showing what is the date, total amount of renting, if it is a weekend or holiday. Clicking on a specific day should show a detailed distribution of amount of renting in each hour in that day.\n",
    "\n",
    "For the second part \"Trending\", the visualization is aiming for finding the trend between amount of renting and the temperature or time in a day, therefore it is better to use a line plot to show the trending. There should be a dropdown menu for the audience to select to select which trend they want to see. There should also be 4 tabs to allow the audience to switch between the 4 seasons. The average of amount of renting is encoded in the y-axis channel, and the temperature or time in the day is encoded in the x-axis channel. This plot is aiming for showing the correlation between the amount of renting and the temperature or time in a day(Correlate), with a dropdown menu for the audience to select between weekdays or weekends(Filter), due to the amount of renting could be greatly affected by whether it is a weekday or weekend. Tooltip should also be available for this visualization, showing the average amount of renting(Retrieve value), temperature/time of the day."
   ]
  }
 ],
 "metadata": {
  "kernelspec": {
   "display_name": "Python 3 (ipykernel)",
   "language": "python",
   "name": "python3"
  },
  "language_info": {
   "codemirror_mode": {
    "name": "ipython",
    "version": 3
   },
   "file_extension": ".py",
   "mimetype": "text/x-python",
   "name": "python",
   "nbconvert_exporter": "python",
   "pygments_lexer": "ipython3",
   "version": "3.11.4"
  }
 },
 "nbformat": 4,
 "nbformat_minor": 5
}
